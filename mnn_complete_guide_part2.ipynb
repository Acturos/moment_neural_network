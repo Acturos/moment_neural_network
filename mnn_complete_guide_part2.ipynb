{
 "cells": [
  {
   "cell_type": "markdown",
   "metadata": {},
   "source": [
    "## 5. Numeric considerations\n",
    "Numeric error may occur for a number of scenarios involving large positive integration bound $I^{\\rm ub}$ and $I^{\\rm lb}$ and special treatment is required.\n",
    "\n",
    "### Scenario 1. Mean activation  \n",
    "$\\mu = \\dfrac{1}{T_{\\rm ref}+ \\frac{2}{L}[G(I^{\\rm ub})- G(I^{\\rm lb})]}$.\n",
    "\n",
    "When both $I^{\\rm ub}$ and $I^{\\rm lb}$ are large, \"$\\infty-\\infty$\" type error may occur. To solve this, apply the following treament when $I^{\\rm lb}>c$ for some positive constant $c$, \n",
    "\n",
    "$\\mu = \\dfrac{1}{T_{\\rm ref}+\\frac{2}{L} G(I^{\\rm ub})\\left(1 -  \\frac{G(I^{\\rm lb})}{G(I^{\\rm ub})}\\right)}$"
   ]
  },
  {
   "cell_type": "markdown",
   "metadata": {},
   "source": [
    "Since $G(x)$ is monotone increasing and $I^{\\rm ub}>I^{\\rm lb}$, the ratio $G(I^{\\rm lb})/G(I^{\\rm ub})$ is guaranteed to be less than one. This ratio can be computed using the leading term in the asymptotic expansion. Since we only use the leading term here, a sufficiently large value of $c$ is needed. We find that $c=5$ works well.  \n",
    "\n",
    "Recall that the asmptotic expansion of $G(x)$ as $x\\to+\\infty$ is  \n",
    "$G(x)\\sim \\frac{1}{2}e^{x^2}\\sum_{n=0}^\\infty \\Gamma(\\frac{1}{2}+n)\\dfrac{1}{x^{2n+1}}\\sim\n",
    "\\frac{\\sqrt{\\pi}}{2}\\frac{e^{x^2}}{x}$"
   ]
  },
  {
   "cell_type": "markdown",
   "metadata": {},
   "source": [
    "Therefre,  \n",
    "$\\eta = \\frac{G(I^{\\rm lb})}{G(I^{\\rm ub})}=\\frac{I^{\\rm ub}}{I^{\\rm lb}}e^{(I^{\\rm lb}+ I^{\\rm ub})(I^{\\rm lb} - I^{\\rm ub})}$  \n",
    "Up to this point, some non-critical overflow warning may still occur for the intermediate variables, though these warnings don't affect the convergence of the final output."
   ]
  },
  {
   "cell_type": "markdown",
   "metadata": {},
   "source": [
    "For the majority of cases when $I^{\\rm lb}$ is large, $T_{\\rm ref}$ can be safely ignored (though not necessary) and we can use the leading term to approximate $G(I^{\\rm ub})$. This gives  \n",
    "\n",
    "$\\mu \\approx \\frac{L}{\\sqrt{\\pi}} I^{\\rm ub}\\exp[-(I^{\\rm ub})^2]\\dfrac{1}{1-G(I^{\\rm lb})/G(I^{\\rm ub})}$  \n",
    "\n",
    "This approximation eliminates some of the non-critical overflows encoutnered when $\\bar{\\sigma}$ is close to zero."
   ]
  },
  {
   "cell_type": "markdown",
   "metadata": {},
   "source": [
    "Finally, we provide a solution for when $\\bar{\\sigma}=0$ by finding the limit of $\\mu$ as $\\sigma\\to 0_+$.\n",
    "\n",
    "If $\\bar{\\mu}\\leq V_{\\rm th}L=1$, then $G(I^{\\rm ub})-G(I^{\\rm lb})\\to+\\infty$, thus $\\mu \\to 0$.  \n",
    "If $\\bar{\\mu}>V_{\\rm th}L=1$, then $I^{\\rm lb}<I^{\\rm ub}\\to-\\infty$, we can use the leading term in the asymptotic expansion    \n",
    "$\\Delta G = -\\frac{1}{2}\\log\\left(\\frac{I^{\\rm ub}}{I^{\\rm lb}}\\right) = -\\frac{1}{2}\\log\\left( 1-\\frac{V_{\\rm th}L}{\\bar{\\mu}} \\right)$  \n",
    "to obtain  \n",
    "$\\mu = \n",
    "\\begin{cases}\n",
    "0,& {\\rm for }~~\\bar{\\mu}\\leq V_{\\rm th}L\\\\\n",
    "\\dfrac{1}{T_{\\rm ref} -\\frac{1}{L}\\log\\left( 1-\\frac{V_{\\rm th}L}{\\bar{\\mu}} \\right)},& {\\rm for}~~\\bar{\\mu} > V_{\\rm th}L\n",
    "\\end{cases}$  "
   ]
  },
  {
   "cell_type": "markdown",
   "metadata": {},
   "source": [
    "In summary, if $\\bar{\\sigma}=0$, use the analytical limit. If $\\bar{\\sigma}>0$ (can be arbitrarily close to $0$) and if $I^{lb}>10$, use the approximation scheme we provide. For all other input values, use the default method.\n",
    "\n",
    "NB: there was a typo in the previous technical document. The code is correct."
   ]
  },
  {
   "cell_type": "markdown",
   "metadata": {},
   "source": [
    "### Scenario 2. Std activation  \n",
    "$\\sigma^2 = \\mu^3{\\rm Var}[T]$  \n",
    "When $I^{\\rm ub}$ is large (sufficiently larger than $I^{\\rm lb}$), we have both $\\mu\\to 0$ and ${\\rm Var}[T]\\to\\infty$, resulting in \"$0\\cdot\\infty$\" type error. However, using the leading terms in the asymptotic expansion we see that the result converges to zero. For numeric stability it is benefitial  to consider the Fano factor  "
   ]
  },
  {
   "cell_type": "markdown",
   "metadata": {},
   "source": [
    "$\\dfrac{\\sigma^2}{\\mu} = \\dfrac{\\frac{8}{L^2}[H(I^{\\rm ub})-H(I^{\\rm lb})]}{\\left(T_{\\rm ref}+\\frac{2}{L}[G(I^{\\rm ub})-G(I^{\\rm lb})]\\right)^2}\n",
    "= \\dfrac{\\frac{8}{L^2}H(I^{\\rm ub})[1-\\frac{H(I^{\\rm lb})}{H(I^{\\rm ub})}]}\n",
    "{\\left(T_{\\rm ref}+\\frac{2}{L}G(I^{\\rm ub})[1-\\frac{G(I^{\\rm lb})}{G(I^{\\rm ub})}]\\right)^2}\n",
    "= \\dfrac{\\frac{8}{L^2}\\frac{H(I^{\\rm ub})}{[G(I^{\\rm ub})]^2}[1-\\frac{H(I^{\\rm lb})}{H(I^{\\rm ub})}]}\n",
    "{\\left(\\frac{T_{\\rm ref}}{G(I^{\\rm ub})}+\\frac{2}{L}[1-\\frac{G(I^{\\rm lb})}{G(I^{\\rm ub})}]\\right)^2}$"
   ]
  },
  {
   "cell_type": "markdown",
   "metadata": {},
   "source": [
    "We simplify this expression by using the leading terms in the asymptotic expansion  \n",
    "$H(x)\\sim \\frac{\\pi^2}{32}[{\\rm erfc}(-x)]^2{\\rm erfi}(x)[{\\rm erfi}(x) - 1]\n",
    "\\approx\\frac{\\pi^2}{8}[{\\rm erfi}(x)]^2\n",
    "\\approx\\frac{\\pi^2}{8}\\frac{e^{2x^2}}{\\pi x^2} $"
   ]
  },
  {
   "cell_type": "markdown",
   "metadata": {},
   "source": [
    "Frist, consider the case when $I^{\\rm ub}>I^{\\rm lb}>c$ for some positive constant $c$.  \n",
    "$\\eta^2 = \\dfrac{H(I^{\\rm lb})}{H(I^{\\rm ub})}=\\left(\\frac{I^{\\rm ub}}{I^{\\rm lb}}\\right)^2e^{2(I^{\\rm lb}+I^{\\rm ub})(I^{\\rm lb}-I^{\\rm ub})}$  \n",
    "And,  \n",
    "$\\dfrac{H(I^{\\rm ub})}{[G(I^{\\rm ub})]^2} = \\frac{1}{2}$"
   ]
  },
  {
   "cell_type": "markdown",
   "metadata": {},
   "source": [
    "Combine these results we get  \n",
    "$\\dfrac{\\sigma^2}{\\mu} = \\dfrac{1+\\eta}{1-\\eta}$"
   ]
  },
  {
   "cell_type": "markdown",
   "metadata": {},
   "source": [
    "Next, for the case $I^{\\rm ub}>c$ and $I^{\\rm lb}<c$, simply set $\\eta = 0$.  \n",
    "Finally, for $\\bar{\\sigma}=0$, we simply have the limit,  \n",
    "$\\dfrac{\\sigma^2}{\\mu} = \\mathbb{1}_{(-\\infty,V_{\\rm th}L)}[\\bar{\\mu}]$"
   ]
  },
  {
   "cell_type": "markdown",
   "metadata": {},
   "source": [
    "## Scenario 3. Linear response  \n",
    "$\\chi(\\bar{\\mu},\\bar{\\sigma}) = \\dfrac{\\bar{\\sigma}}{\\sigma}\\dfrac{\\partial \\mu}{\\partial \\bar{\\mu}}\n",
    "=\\dfrac{\\bar{\\sigma}}{\\sigma}\\left(\\frac{2}{L\\sqrt{L}}\\frac{\\mu^2}{\\bar{\\sigma}}\\Delta g\\right)\n",
    "=\\frac{2}{L\\sqrt{L}}\\dfrac{\\mu^2}{\\sigma}\\Delta g\n",
    "$"
   ]
  },
  {
   "cell_type": "markdown",
   "metadata": {},
   "source": [
    "Again we need to resolve numeric instability in cases when $\\sigma\\to 0$. Expand the expression,  \n",
    "$\\chi(\\bar{\\mu},\\bar{\\sigma})=\\frac{1}{\\sqrt{2L}}\\sqrt{\\frac{\\mu}{\\Delta H}}\\Delta g\n",
    "=\\frac{1}{\\sqrt{2L}}\\dfrac{\\Delta g}{\\sqrt{(T_{\\rm ref}+\\frac{2}{L}\\Delta G)\\Delta H}}$"
   ]
  },
  {
   "cell_type": "markdown",
   "metadata": {},
   "source": [
    "Consider the case when $I^{\\rm ub}>I^{\\rm lb}>c$ for some positive constant $c$  \n",
    "$\\chi(\\bar{\\mu},\\bar{\\sigma})=\\frac{1}{2}\\dfrac{g(I^{\\rm ub})\\left[1-\\frac{g(I^{\\rm lb})}{g(I^{\\rm ub})}\\right]}\n",
    "{\\left(G(I^{\\rm ub})\\left[1-\\frac{G(I^{\\rm lb})}{G(I^{\\rm ub})}\\right]\n",
    "H(I^{\\rm ub})\\left[1-\\frac{H(I^{\\rm lb})}{H(I^{\\rm ub})}\\right]\\right)^{1/2}}$"
   ]
  },
  {
   "cell_type": "markdown",
   "metadata": {},
   "source": [
    "Use the leading term $g(x)\\sim \\sqrt{\\pi}e^{x^2}$ we get  \n",
    "\n",
    "$\\chi(\\bar{\\mu},\\bar{\\sigma})=\\frac{1}{2}\\dfrac{\\sqrt{\\pi}e^{(I^{\\rm ub})^2}\\left[1-e^{(I^{\\rm lb}+I^{\\rm ub})(I^{\\rm lb}-I^{\\rm ub})}\\right]}\n",
    "{\\left( \\frac{\\sqrt{\\pi}}{2}\\frac{e^{(I^{\\rm ub})^2}}{I^{\\rm ub}}\\frac{\\pi}{8}\\frac{e^{2(I^{\\rm ub})^2}}{(I^{\\rm ub})^2} \\left[1-\\eta\\right]\n",
    "\\left[1-\\eta^2\\right]\\right)^{1/2}}$"
   ]
  },
  {
   "cell_type": "markdown",
   "metadata": {},
   "source": [
    "$=\\frac{2}{\\pi^{1/4}}e^{-(I^{\\rm ub})^2/2}(I^{\\rm ub})^{3/2}\\dfrac{1-e^{(I^{\\rm lb}+I^{\\rm ub})(I^{\\rm lb}-I^{\\rm ub})}}{(1-\\eta)\\sqrt{1+\\eta}}$"
   ]
  },
  {
   "cell_type": "markdown",
   "metadata": {},
   "source": [
    "For $I^{\\rm ub}>c$ and $I^{\\rm lb}<c$, we simply have  \n",
    "$\\chi(\\bar{\\mu},\\bar{\\sigma})=\\frac{2}{\\pi^{1/4}}e^{-(I^{\\rm ub})^2/2}(I^{\\rm ub})^{3/2}$"
   ]
  },
  {
   "cell_type": "markdown",
   "metadata": {},
   "source": [
    "Finally we calculate the limit as $\\bar{\\sigma}\\to 0$."
   ]
  },
  {
   "cell_type": "markdown",
   "metadata": {},
   "source": [
    "For $\\bar{\\mu}\\leq V_{\\rm th}L$, we simply have $\\chi=0$.  \n",
    "For $\\bar{\\mu}> V_{\\rm th}L$, we have $x\\to-\\infty$ and so    \n",
    "$\\Delta g \\sim -\\frac{1}{2}(\\frac{1}{I^{\\rm ub}}-\\frac{1}{I^{\\rm lb}}) $  \n",
    "$\\Delta H \\sim -\\frac{1}{16}(\\frac{1}{(I^{\\rm ub})^2}-\\frac{1}{(I^{\\rm lb})^2}) $  \n"
   ]
  },
  {
   "cell_type": "markdown",
   "metadata": {},
   "source": [
    "Therefore  \n",
    "$\\frac{\\Delta g}{\\sqrt{\\Delta H}}=\\frac{2}{\\sqrt{2\\bar{\\mu}/(V_{\\rm th}L)-1}}$"
   ]
  },
  {
   "cell_type": "markdown",
   "metadata": {},
   "source": [
    "In summary,  \n",
    "$\\chi = \n",
    "\\begin{cases}\n",
    "0,& {\\rm for }~~\\bar{\\mu}\\leq V_{\\rm th}L\\\\\n",
    "\\sqrt{\\frac{2}{L}}\\dfrac{1}{\\sqrt{\n",
    "T_{\\rm ref} -\\frac{1}{L}\\log\\left( 1-\\frac{V_{\\rm th}L}{\\bar{\\mu}} \\right)}\n",
    "\\sqrt{2\\bar{\\mu}/(V_{\\rm th}L)-1}\n",
    "},& {\\rm for}~~\\bar{\\mu} > V_{\\rm th}L\n",
    "\\end{cases}$  \n",
    "Note that $\\chi$ is continuous and well bahaved everywhere."
   ]
  },
  {
   "cell_type": "markdown",
   "metadata": {},
   "source": [
    "## Scenario 4: Gradient of mean activation\n",
    "In this section we present numerically stable formula for the gradient of the mean activation.  \n",
    "First, the partial derivative with respect to $\\bar{\\mu}$ is  \n",
    "$\\dfrac{\\partial \\mu}{\\partial \\bar{\\mu}}\n",
    "=\\frac{2}{L\\sqrt{L}}\\frac{\\mu^2}{\\bar{\\sigma}}\\Delta g$."
   ]
  },
  {
   "cell_type": "markdown",
   "metadata": {},
   "source": [
    "The derivative has a non-removable singularity at $(\\bar{\\mu},\\bar{\\sigma})=(V_{\\rm th},0)$. For other input values we repeat the previous method."
   ]
  },
  {
   "cell_type": "markdown",
   "metadata": {},
   "source": [
    "$\\dfrac{\\partial \\mu}{\\partial \\bar{\\mu}}\n",
    "=\\frac{2}{L\\sqrt{L}}\\frac{1}{\\bar{\\sigma}}\\dfrac{\\Delta g}{(T_{\\rm ref}+\\frac{2}{L}\\Delta G)^2}\n",
    "=\\frac{2}{L\\sqrt{L}}\\frac{1}{\\bar{\\sigma}}\\dfrac{g(I^{\\rm ub})}{G(I^{\\rm ub})^2}\n",
    "\\dfrac{1-\\xi}{[T_{\\rm ref}/G(I^{\\rm ub})+\\frac{2}{L}(1-\\eta)]^2}\n",
    "$"
   ]
  },
  {
   "cell_type": "markdown",
   "metadata": {},
   "source": [
    "where $\\xi=g(I^{\\rm lb})/g(I^{\\rm ub})$ and $\\eta=G(I^{\\rm lb})/G(I^{\\rm ub})$ as given in previous sections."
   ]
  },
  {
   "cell_type": "markdown",
   "metadata": {},
   "source": [
    "Recall that $g(x)\\sim \\sqrt{\\pi}e^{x^2}$ and $G(x)\\sim \\frac{\\sqrt{\\pi}}{2}\\frac{e^{x^2}}{x}$ as $x\\to +\\infty$.  "
   ]
  },
  {
   "cell_type": "markdown",
   "metadata": {},
   "source": [
    "Therefore for $I^{\\rm ub}>I^{\\rm lb}>c$ for some positive $c$, we have  \n",
    "$\\dfrac{\\partial\\mu}{\\partial\\bar{\\mu}}\n",
    "=\\frac{2\\sqrt{L}}{\\sqrt{\\pi}}\\dfrac{1}{\\bar{\\sigma}}\n",
    "(I^{\\rm ub})^2e^{-(I^{\\rm ub})^2}\\dfrac{1-\\xi}{(1-\\eta)^2}.\n",
    "$\n",
    "\n",
    "For $I^{\\rm ub}>c$ and $I^{\\rm lb}<c$ simply set $\\xi=\\eta=0$."
   ]
  },
  {
   "cell_type": "markdown",
   "metadata": {},
   "source": [
    "For $\\bar{\\sigma}= 0$, simply take the derivative directly of $\\mu(\\bar{\\mu},0)$ which is already known. We get  \n",
    "$\\dfrac{\\partial\\mu}{\\partial\\bar{\\mu}} = \n",
    "\\begin{cases}\n",
    "0,& {\\rm for }~~\\bar{\\mu}< V_{\\rm th}L\\\\\n",
    "\\dfrac{V\\mu^2}{\\bar{\\mu}(\\bar{\\mu}-VL)},& {\\rm for}~~\\bar{\\mu} > V_{\\rm th}L\n",
    "\\end{cases}$  \n",
    "For all other cases evaluate with the normal formula."
   ]
  },
  {
   "cell_type": "markdown",
   "metadata": {},
   "source": [
    "---\n",
    "Next, the partial derivative with respect to $\\bar{\\sigma}$ is  \n",
    "$\\dfrac{\\partial \\mu}{\\partial \\bar{\\sigma}}=\n",
    "\\frac{2}{L}\\mu^2\\frac{1}{\\bar{\\sigma}}[g(I^{\\rm ub})I^{\\rm ub} - g(I^{\\rm lb})I^{\\rm lb}]\n",
    "=\\frac{2}{L}\\frac{1}{\\bar{\\sigma}}\\dfrac{g(I^{\\rm ub})I^{\\rm ub}}{G(I^{\\rm ub})^2}\n",
    "\\dfrac{1-\\kappa}{[T_{\\rm ref}/G(I^{\\rm ub})+\\frac{2}{L}(1-\\eta)]^2}$,  \n",
    "where $\\kappa=\\frac{g(I^{\\rm lb})I^{\\rm lb}}{g(I^{\\rm ub})I^{\\rm ub}}$."
   ]
  },
  {
   "cell_type": "markdown",
   "metadata": {},
   "source": [
    "Therefore for $I^{\\rm ub}>I^{\\rm lb}>c$ for some positive $c$, we have  \n",
    "$\\dfrac{\\partial\\mu}{\\partial\\bar{\\sigma}}\n",
    "=\\frac{2\\sqrt{L}}{\\sqrt{\\pi}}\\dfrac{1}{\\bar{\\sigma}}\n",
    "(I^{\\rm ub})^3e^{-(I^{\\rm ub})^2}\\dfrac{1-\\kappa}{(1-\\eta)^2}.\n",
    "$\n",
    "\n",
    "For $I^{\\rm ub}>c$ and $I^{\\rm lb}<c$ simply set $\\kappa=\\eta=0$."
   ]
  },
  {
   "cell_type": "markdown",
   "metadata": {},
   "source": [
    "To find the derivative for $\\bar{\\sigma}=0$, we need to consider the limit.  \n",
    "For $\\bar{\\mu}<V_{\\rm th}L$ we simply have $\\frac{\\partial\\mu}{\\partial\\bar{\\mu}}=0$.  \n",
    "For $\\bar{\\mu}>V_{\\rm th}L$, $I^{\\rm lb}<I^{\\rm ub}\\to-\\infty$ and we have   \n",
    "$g(I^{\\rm ub})I^{\\rm ub}-g(I^{\\rm lb})I^{\\rm lb} = \\frac{1}{4}\\left(\\frac{1}{(I^{\\rm ub})^2}-\\frac{1}{(I^{\\rm lb})^2}\\right)$."
   ]
  },
  {
   "cell_type": "markdown",
   "metadata": {},
   "source": [
    "Therefore, the derivative becomes  \n",
    "$\\dfrac{\\partial\\mu}{\\partial\\bar{\\sigma}}=\\frac{1}{2}\\mu^2\\bar{\\sigma}\\left[\\frac{1}{(1-\\bar{\\mu})^2}-\\frac{1}{\\bar{\\mu}}\\right]=0$"
   ]
  },
  {
   "cell_type": "markdown",
   "metadata": {},
   "source": [
    "For $\\bar{\\mu}=V_{\\rm th}L$ the situation is tricky as the limit is not well defined: $\\partial_{\\bar{\\sigma}}\\mu\\to+\\infty$ as $\\bar{\\sigma}\\to 0$ along the $\\bar{\\mu}=0$ axis, whereas $\\partial_{\\bar{\\sigma}}\\mu\\to 0$ as $\\bar{\\mu}\\to V_{\\rm th}L$ along the $\\bar{\\sigma}=0$ axis. For numeric considerations we set it to be zero."
   ]
  },
  {
   "cell_type": "markdown",
   "metadata": {},
   "source": [
    "## Scenario 5: Gradient of std activation  \n",
    "The std activation is  \n",
    "$\\sigma^2= \\frac{8}{L^2}\\mu^3\\Delta H\\Rightarrow\\sigma = \\frac{2\\sqrt{2}}{L}\\mu^{3/2}\\sqrt{\\Delta H}$  \n",
    "First, the partial derivative with respect to $\\bar{\\mu}$ is"
   ]
  },
  {
   "cell_type": "markdown",
   "metadata": {},
   "source": [
    "$\\dfrac{\\partial\\sigma}{\\partial\\bar{\\mu}}=\\frac{3}{L\\sqrt{L}}\\dfrac{\\sigma}{\\bar{\\sigma}}\\dfrac{\\Delta g}{T_{\\rm ref}+\\frac{2}{L}\\Delta G}\n",
    "-\\frac{1}{2\\sqrt{L}}\\dfrac{\\sigma}{\\bar{\\sigma}}\\dfrac{\\Delta h}{\\Delta H}$.  \n",
    "Note how terms of the same order are grouped together. Recall that  \n",
    "$g(x)\\sim \\sqrt{\\pi}e^{x^2}$  \n",
    "$G(x)\\sim \\frac{\\sqrt{\\pi}}{2}\\frac{e^{x^2}}{x}$  \n",
    "$h(x)\\sim \\frac{\\pi}{2}\\frac{e^{2x^2}}{x}$  \n",
    "$H(x)\\sim \\frac{\\pi}{8}\\frac{e^{2x^2}}{x^2}$  "
   ]
  },
  {
   "cell_type": "markdown",
   "metadata": {},
   "source": [
    "For $I^{\\rm ub}>I^{\\rm lb}>c$ for some positive $c$, we have  \n",
    "$\\dfrac{\\partial\\sigma}{\\partial\\bar{\\mu}}\n",
    "=\\frac{3}{\\sqrt{L}}\\dfrac{\\sigma}{\\bar{\\sigma}}I^{\\rm ub}\\dfrac{1-\\xi}{1-\\eta}\n",
    "-\\frac{2}{\\sqrt{L}}\\dfrac{\\sigma}{\\bar{\\sigma}}I^{\\rm ub}\\dfrac{1-\\frac{I^{\\rm lb}}{I^{\\rm ub}}\\xi^2}{1-\\eta^2}$.  \n",
    "For $I^{\\rm ub}>c$ and $I^{\\rm lb}<c$ simply set $\\xi=\\eta=0$."
   ]
  },
  {
   "cell_type": "markdown",
   "metadata": {},
   "source": [
    "At $\\bar{\\sigma}=0$ the gradient with respect to $\\bar{\\mu}$ is zero except that it is not well defined at $\\bar{\\mu}=V_{\\rm th}L$, since the derivative along the $\\bar{\\sigma}=0$ axis is zero but the limit as $\\bar{\\sigma}\\to 0$ is divergent. For numeric purposes we set it to be zero."
   ]
  },
  {
   "cell_type": "markdown",
   "metadata": {},
   "source": [
    "Next, the partial derivative with respect to $\\bar{\\sigma}$ is  \n",
    "$\\dfrac{\\partial\\sigma}{\\partial\\bar{\\sigma}}=\\frac{3}{L}\\dfrac{\\sigma}{\\bar{\\sigma}}\\dfrac{g^{\\rm ub}I^{\\rm ub}-g^{\\rm lb}I^{\\rm lb}}{T_{\\rm ref}+\\frac{2}{L}\\Delta G}\n",
    "-\\frac{1}{2}\\dfrac{\\sigma}{\\bar{\\sigma}}\\dfrac{h^{\\rm ub}I^{\\rm ub}-h^{\\rm lb}I^{\\rm lb}}{\\Delta H}$. "
   ]
  },
  {
   "cell_type": "markdown",
   "metadata": {},
   "source": [
    "For clarity, define  \n",
    "$\\lambda = \\frac{I^{\\rm ub}}{I^{\\rm lb}} = \\frac{V_{\\rm th}L-\\bar{\\mu}}{-\\bar{\\mu}} = 1-\\frac{V_{\\rm th}L}{\\bar{\\mu}}$  \n",
    "$\\zeta = \\frac{e^{(I^{\\rm lb})^2}}{e^{(I^{\\rm ub})^2}} = e^{(I^{\\rm lb}+I^{\\rm ub})(I^{\\rm lb}-I^{\\rm ub})}$"
   ]
  },
  {
   "cell_type": "markdown",
   "metadata": {},
   "source": [
    "For $I^{\\rm ub}>I^{\\rm lb}>c$ for some positive $c$, we have  \n",
    "$\\dfrac{\\partial\\sigma}{\\partial\\bar{\\sigma}}\n",
    "=3\\dfrac{\\sigma}{\\bar{\\sigma}}(I^{\\rm ub})^2\\dfrac{1-\\zeta/\\lambda}{1-\\zeta\\lambda}\n",
    "-2\\dfrac{\\sigma}{\\bar{\\sigma}}(I^{\\rm ub})^2\\dfrac{1-\\zeta^2}{1-\\lambda^2\\zeta^2}$.  \n",
    "For $I^{\\rm ub}>c$ and $I^{\\rm lb}<c$ simply set $\\lambda=\\zeta=0$."
   ]
  },
  {
   "cell_type": "markdown",
   "metadata": {},
   "source": [
    "In fact, it is clear by now that all three moment maps and their derivatives vanish for $I^{\\rm ub}>c$ for sufficiently large $c$, and we can safely set the output to zero in practice. This is because the leading term is of an order of at least $e^{-(I^{\\rm ub})^2}$."
   ]
  },
  {
   "cell_type": "markdown",
   "metadata": {},
   "source": [
    "Next we find the case for $\\bar{\\sigma}= 0$  \n",
    "$\\left. \\dfrac{\\partial{\\sigma}}{\\partial\\bar{\\sigma}}\\displaystyle \\right|_{\\bar{\\sigma}=0}\n",
    "=\\displaystyle\\lim_{\\bar{\\sigma}\\to 0}\\dfrac{\\sigma}{\\bar{\\sigma}}\n",
    "= \\frac{1}{\\sqrt{2L}}\\mu^{\\frac{3}{2}}\\sqrt{\\frac{1}{(V_{\\rm th}L-\\bar{\\mu})^2}-\\frac{1}{\\bar{\\mu}^2}}$,  \n",
    "where we have used the asymptotic $H(x) \\sim \\frac{1}{16}\\frac{1}{x^2}$."
   ]
  },
  {
   "cell_type": "markdown",
   "metadata": {},
   "source": [
    "## Scenario 6: Gradient of linear response  \n"
   ]
  },
  {
   "cell_type": "markdown",
   "metadata": {},
   "source": [
    "For this case, we take the short-cut (fix for mathematical regior later).  \n",
    "For $I^{\\rm ub}>c$ for some sufficiently large positive constant $c$, set  \n",
    "$\\dfrac{\\partial\\chi}{\\partial \\bar{\\mu}}=\\dfrac{\\partial\\chi}{\\partial \\bar{\\sigma}} = 0$  \n",
    "For $\\bar{\\sigma} = 0$, set  \n",
    "$\\dfrac{\\partial\\chi}{\\partial \\bar{\\sigma}} = 0$  \n",
    "and  \n",
    "$\\dfrac{\\partial\\chi}{\\partial \\bar{\\mu}}\n",
    "=\\frac{1}{\\sqrt{2L}}\\dfrac{1}{\\sqrt{\\mu(\\frac{2}{V_{\\rm th}L}\\bar{\\mu}-1)}}\\dfrac{\\partial\\mu}{\\partial \\bar{\\mu}}\n",
    "-\\sqrt{\\frac{2}{L}}\\frac{1}{V_{\\rm th}L}\\mu^\\frac{1}{2}(\\frac{2}{V_{\\rm th}L}\\bar{\\mu}-1)^{-\\frac{3}{2}}\n",
    "$  \n",
    "for $\\bar{\\mu}>V_{\\rm th}L$ and zero otherwise."
   ]
  },
  {
   "cell_type": "markdown",
   "metadata": {},
   "source": [
    "For all other cases, recall that  \n",
    "$\\chi(\\bar{\\mu},\\bar{\\sigma})\n",
    "= \\frac{2}{L\\sqrt{L}}\\dfrac{\\mu^2}{\\sigma}\\Delta g\n",
    "=\\frac{1}{\\sqrt{2L}}\\mu^{\\frac{1}{2}}\\dfrac{\\Delta g}{\\sqrt{\\Delta H}}$  "
   ]
  },
  {
   "cell_type": "markdown",
   "metadata": {},
   "source": [
    "Take the derivatives we get  \n",
    "$\\dfrac{\\partial \\chi}{\\partial \\bar{\\mu}}\n",
    "= \\frac{1}{2}\\dfrac{\\chi}{\\mu}\\dfrac{\\partial\\mu}{\\partial\\bar{\\mu}}\n",
    "-\\frac{\\sqrt{2}}{L}\\sqrt{\\frac{\\mu}{\\Delta H}}\\left[I^{\\rm ub}g(I^{\\rm ub}) - I^{\\rm lb}g(I^{\\rm lb})\\right]\\frac{1}{\\bar{\\sigma}}\n",
    "+\\frac{1}{2\\sqrt{L}}\\chi\\dfrac{\\Delta h}{\\Delta H}\\frac{1}{\\bar{\\sigma}}\n",
    "$"
   ]
  },
  {
   "cell_type": "markdown",
   "metadata": {},
   "source": [
    "$\\dfrac{\\partial \\chi}{\\partial \\bar{\\sigma}}\n",
    "= \\frac{1}{2}\\dfrac{\\chi}{\\mu}\\dfrac{\\partial\\mu}{\\partial\\bar{\\sigma}}\n",
    "-\\dfrac{\\chi}{\\bar{\\sigma}}\\dfrac{2(I^{\\rm ub})^2g(I^{\\rm ub})-2(I^{\\rm lb})^2g(I^{\\rm lb}) +I^{\\rm ub}-I^{\\rm lb}}{\\Delta g}\n",
    "+\\frac{1}{2}\\dfrac{\\chi}{\\bar{\\sigma}}\\dfrac{I^{\\rm ub}h(I^{\\rm ub})-I^{\\rm lb}h(I^{\\rm lb})}{\\Delta H}\n",
    "$"
   ]
  },
  {
   "cell_type": "markdown",
   "metadata": {},
   "source": [
    "For clairty, write  \n",
    "$\\partial_{\\bar{\\sigma}}\\Delta g = -\\frac{1}{\\bar{\\sigma}}([2I^{\\rm ub}g(I^{\\rm ub}) +1]I^{\\rm ub}-[2I^{\\rm lb}g(I^{\\rm lb}) +1]I^{\\rm lb})$  \n",
    "and  \n",
    "$\\partial_{\\bar{\\sigma}}\\Delta H = -\\frac{1}{\\bar{\\sigma}}[h(I^{\\rm ub})I^{\\rm ub}-h(I^{\\rm lb})I^{\\rm lb}]$"
   ]
  },
  {
   "cell_type": "markdown",
   "metadata": {},
   "source": [
    "We obtain  \n",
    "$\\dfrac{\\partial \\chi}{\\partial \\bar{\\sigma}}\n",
    "= \\frac{1}{2}\\dfrac{\\chi}{\\mu}\\dfrac{\\partial\\mu}{\\partial\\bar{\\sigma}}\n",
    "+\\chi\\left[\n",
    "\\dfrac{\\partial_{\\bar{\\sigma}}\\Delta g}{\\Delta g}\n",
    "-\\frac{1}{2}\\dfrac{\\partial_{\\bar{\\sigma}}\\Delta H}{\\Delta H}\n",
    "\\right]\n",
    "$"
   ]
  },
  {
   "cell_type": "markdown",
   "metadata": {},
   "source": [
    "The terms inside the bracket need to be treated carefully to avoid numeric errors."
   ]
  },
  {
   "cell_type": "code",
   "execution_count": null,
   "metadata": {},
   "outputs": [],
   "source": []
  }
 ],
 "metadata": {
  "kernelspec": {
   "display_name": "Python 3",
   "language": "python",
   "name": "python3"
  },
  "language_info": {
   "codemirror_mode": {
    "name": "ipython",
    "version": 3
   },
   "file_extension": ".py",
   "mimetype": "text/x-python",
   "name": "python",
   "nbconvert_exporter": "python",
   "pygments_lexer": "ipython3",
   "version": "3.7.6"
  }
 },
 "nbformat": 4,
 "nbformat_minor": 4
}
