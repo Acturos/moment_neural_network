{
 "cells": [
  {
   "cell_type": "markdown",
   "metadata": {},
   "source": [
    "# 6. Numerical scheme for evaluating Dawson functions\n",
    "## Definition  \n",
    "Define the following family of Dawson-like functions  \n",
    "$g(x)=e^{x^2}\\int_{-\\infty}^x e^{-u^2}du$  \n",
    "$h(x)=e^{x^2}\\int_{-\\infty}^x e^{-u^2}[g(u)]^2du$  \n",
    "$G(x)=\\int_0^x g(u)du$  \n",
    "$H(x)=\\int_{-\\infty}^x h(u)du$  \n",
    "\n",
    "## Motivation\n",
    "In Moment Neural Network (MNN), the mean and the variance of the inter-spike-intervals (ISI) are defined through above integrals as follows  \n",
    "$\\mathbb{E}[T]\\propto \\int_a^b g(t)dt$,  \n",
    "and  \n",
    "${\\rm Var}[T]\\propto \\int_a^b h(t)dt$.  \n",
    "The evaluation of these integrals become extremely problematic for two reasons:  \n",
    "- Reliability: for $x<-1$, direct numerical evaluation of $g(x)$ and $h(x)$ using the definition encounters '$\\infty\\cdot0$' type numeric instability, even for moderately large value of $|x|$. This scenario is frequently encountered as negative values of $x$ happen to be in the biological range.  \n",
    "- Speed: direct evaluation of the mean and variance of ISI involves double or triple integrals that are costly to compute. A temporary workaround is to interpolate with a pre-calculated lookup table, however, the range and precision of this method is limited.\n",
    "\n",
    "These issues severely hinder the ability to scale up MNN and future research aimed at using MNN to perform deep learning.\n"
   ]
  },
  {
   "cell_type": "markdown",
   "metadata": {},
   "source": [
    "## Overview of the numerical scheme\n",
    "To resolve these issues, we employ a combination of techniques to approximate the Dawson functions. The overall strategy of the numeric scheme is to break the domain of these functions into four regions:  \n",
    "- i. Extremely negative values  $A=(-\\infty,-c]$  \n",
    "- ii. Intermediate negative values  $B=(-c,0]$   \n",
    "- iii. Intermediate positive values $C=(0,c]$    \n",
    "- iv. Extremely positive values $D=(c,\\infty)$    \n",
    "\n",
    "where $c$ is a sufficiently large positive constant.  \n",
    "For region $A$ and $D$, the functions are approximated using their respective asymptotic expansions.  \n",
    "For region $B$ and $C$ the functions are approximated using Chebyshev polynomials (after a suitable transformation).  \n",
    "This idea is inspired by the established methods for evaluating the scaled complementary error function.  "
   ]
  },
  {
   "cell_type": "markdown",
   "metadata": {},
   "source": [
    "## Approximation by asymptotic expansions  \n",
    "We tabulate the asymptotic expansions as below  \n",
    "\\begin{array}{|c|c|}\n",
    "\\hline & x\\to +\\infty & x\\to -\\infty \\\\\\hline\n",
    "  g(x)  & \\sqrt{\\pi}e^{x^2}-\\frac{1}{2\\sqrt{\\pi}}\\displaystyle\\sum_{n=0}^\\infty(-1)^n\\Gamma(\\tfrac{1}{2}+n)\\dfrac{1}{x^{2n+1}} & -\\frac{1}{2\\sqrt{\\pi}}\\displaystyle\\sum_{n=0}^\\infty(-1)^n\\Gamma(\\tfrac{1}{2}+n)\\dfrac{1}{x^{2n+1}}\\\\\\hline\n",
    "  G(x)  & \\frac{1}{2}e^{x^2}\\displaystyle\\sum_{n=0}^\\infty\\Gamma(\\tfrac{1}{2}+n)\\dfrac{1}{x^{2n+1}} & \\frac{1}{4}\\phi_0(\\frac{1}{2}) - \\frac{1}{2}\\log(-x) -\\frac{1}{8x^2}+\\frac{3}{32x^4}-\\frac{5}{32x^6} +\\dots \\\\\\hline\n",
    "  h(x)  & \\left(\\frac{\\sqrt{\\pi}}{2}\\right)^3e^{x^2}[{\\rm erfc}(-x)]^2{\\rm erfi}(x) & \\displaystyle\\sum_{n=0}^\\infty \\dfrac{a_n}{x^{2n+3}} \\\\\\hline\n",
    "  H(x)  & \\left(\\frac{\\pi^2}{32}\\right)[{\\rm erfi}(x)-1][{\\rm erfc}(-x)]^2{\\rm erfi}(x) & \\displaystyle\\sum_{n=0}^\\infty \\dfrac{-a_n}{2n+2}\\dfrac{1}{x^{2n+2}} \\\\\\hline  \n",
    "\\end{array}"
   ]
  },
  {
   "cell_type": "markdown",
   "metadata": {},
   "source": [
    "Remark. The function $g(x)$ is related to the scaled complementary error function as\n",
    "\n",
    "$$g(x) = \\tfrac{\\sqrt{\\pi}}{2}{\\rm erfcx(-x)}$$  \n",
    "\n",
    "whose asymptotic expansions are well known. The results for $G(x)$, $h(x)$, and $H(x)$ are new.  \n",
    "\n",
    "NB. It appears that the expansion for $G(x)$ as $x\\to+\\infty$ has an extra non-vanishing term that is equal to $G(-x)$!"
   ]
  },
  {
   "cell_type": "markdown",
   "metadata": {},
   "source": [
    "## Chebyshev polynomial approximation for the intermediate range  \n"
   ]
  },
  {
   "cell_type": "markdown",
   "metadata": {},
   "source": [
    "### i. For negative values of $x$  \n",
    "Since the Dawson functions decay to zero rapidly as $x\\to-\\infty$, fitting them directly with Chebyshev polynomials results in poor convergence, and suitable transformations are required."
   ]
  },
  {
   "cell_type": "markdown",
   "metadata": {},
   "source": [
    "First, we map the input $x\\in(-\\infty,0]$ to the unit interval with $x'=\\dfrac{4}{4-x}$ to obtain  \n",
    "$\\tilde{g}(x') = g(x)$  \n",
    "$\\tilde{h}(x') = h(x)$  \n",
    "$\\tilde{H}(x') = H(x)$  \n",
    "\n",
    "Next, we subdivide $x'\\in(0,1]$ into $N$ equal intervals and fit the transformed functions over each interval using Chebyshev polynomials of degree $K$. For reference we list the first few terms of the Chebyshev basis    \n",
    "$T_0(x) = 1$  \n",
    "$T_1(x) = x$  \n",
    "$T_2(x) = 2x^2-1$  \n",
    "$T_3(x) = 4x^3-3x$\n",
    "\n",
    "This procedure results in a matrix of size $(N,K+1)$ whose entries are the Chebyshev coefficients, which are then used to approximate the original function. Alternatively, we can convert the coefficients into the standard polynomial basis which may be more convenient for numerical implementation (especially for GPU)."
   ]
  },
  {
   "cell_type": "markdown",
   "metadata": {},
   "source": [
    "### ii. For positive values of $x$  \n",
    "For $g(x)$ and $G(x)$ we can use the special identities:  \n",
    "- $g(x)=\\sqrt{\\pi}e^{x^2}-g(-x)$  \n",
    "- $G(x)=\\frac{\\pi}{2}{\\rm erfi}(x)+G(-x)$  \n",
    "- $h(x) = \\sqrt{\\pi}e^{x^2}\\left[\\tfrac{1}{2}\\log2+G(x)+G(-x)\\right] - h(-x)$\n"
   ]
  },
  {
   "cell_type": "markdown",
   "metadata": {},
   "source": [
    "Proof.  \n",
    "For $g(x)$ and $G(x)$ the proofs are trivial.  \n",
    "For $h(x)$ consider the following  \n",
    "$h(x)-h(-x) = e^{x^2}\\left[\\int_{-\\infty}^x e^{-t^2}g(t)^2dt - \\int_{-\\infty}^{-x} e^{-t^2}g(t)^2dt\\right]$  \n",
    "$= e^{x^2}\\left[\\int_{-x}^0 e^{-t^2}g(t)^2dt+\\int_{0}^x e^{-t^2}g(t)^2dt\\right]$  \n",
    "$= e^{x^2}\\left(\\int_{0}^x e^{-t^2}[g(t)^2+g(-t)^2]dt\\right)$  \n",
    "\n",
    "Substitute in the identity $g(x)=\\sqrt{\\pi}e^{x^2}-g(-x)$ we get  \n",
    "$g(t)^2 + g(-t)^2 = 2g(t)^2 -2\\sqrt{\\pi}e^{t^2}g(t) + \\pi e^{2t^2}$  \n",
    "Integrating both sides of the equation from $t=0$ to $t=x$ leads to    \n",
    "$h(x)-h(-x) = 2[h(x)-e^{x^2}h(0)] -2\\sqrt{\\pi}e^{x^2}G(x) + \\frac{\\pi\\sqrt{\\pi}}{2}e^{x^2}{\\rm erfi}(x)$  \n",
    "where $h(0) = \\frac{\\sqrt{\\pi}}{4}\\log 2$.  \n",
    "Rearrange we get  \n",
    "$h(x)+h(-x) = e^{x^2}\\left[2h(0) +2\\sqrt{\\pi}G(x) - \\frac{\\pi\\sqrt{\\pi}}{2}{\\rm erfi}(x)\\right]$  \n",
    "Or alternatively  \n",
    "$h(x)+h(-x) = \\sqrt{\\pi}e^{x^2}\\left[\\tfrac{2}{\\sqrt{\\pi}}h(0) +G(x) + G(-x)\\right]$  "
   ]
  },
  {
   "cell_type": "markdown",
   "metadata": {},
   "source": [
    "For $H(x)$ consider the following  \n",
    "$H(x)-H(-x) = \\int_0^x[h(t)+h(-t)]dt$  \n",
    "Integrate term-by-term  \n",
    "- $\\tfrac{\\sqrt{\\pi}}{2}\\log2\\int_0^x e^{t^2}dt=\\tfrac{\\pi}{4}(\\log2){\\rm erfi}(x)$  \n",
    "- $2\\sqrt{\\pi}\\int_0^x e^{t^2}G(t)dt = \\pi{\\rm erfi}(x)G(x) - \\frac{\\pi\\sqrt{\\pi}}{2}\\int_0^x{\\rm erfi}(t)e^{t^2}{\\rm erfc}(-t)dt$  \n",
    "- $-\\tfrac{\\pi^2}{8}[{\\rm erfi}(x)]^2$  \n",
    "\n",
    "It is virtually impossible to cast the integral in simple forms and an alternative method is required.  \n",
    "$\\square$"
   ]
  },
  {
   "cell_type": "markdown",
   "metadata": {},
   "source": [
    "Alternative strategy. Note the following identity:  \n",
    "$2\\sqrt{\\pi}G(x) - \\frac{\\pi\\sqrt{\\pi}}{2}{\\rm erfi}(x) = \\pi\\int_0^x e^{t^2}{\\rm erf}(t)dt\n",
    "=\\sqrt{\\pi} x^2 {_2F_2(1,1;\\tfrac{3}{2},2|x^2)}$  \n",
    "where $_pF_q$ is the generalized hypergeometric function. This result by itself is not useful for numeric implementation but provide some opportunities for further results.  Consider the integral  \n",
    "$J(x) = \\pi\\int_0^x\\int_0^u e^{u^2+t^2}{\\rm erf}(t)dtdu$  \n",
    "The region of integration is a triangle on the $(u,t)$ plane with $u\\in(0,x)$ and $t\\in(0,u)$. Now transform it to polar coordinates $(\\theta,r)$, we have  \n",
    "$u^2+t^2 = r^2$  \n",
    "$t = r\\sin\\theta$  \n",
    "$dtdu = rdrd\\theta$  \n",
    "and the integration limits become $r\\in(0,x\\sec\\theta)$ and $\\theta\\in(0,\\tfrac{\\pi}{4})$"
   ]
  },
  {
   "cell_type": "markdown",
   "metadata": {},
   "source": [
    "Therefore  \n",
    "$J(x) = \\pi\\int_0^{\\tfrac{\\pi}{4}}\\int_0^{x\\sec\\theta}e^{r^2}{\\rm erf}(r\\sin\\theta)rdrd\\theta$"
   ]
  },
  {
   "cell_type": "markdown",
   "metadata": {},
   "source": [
    "Use the following result  \n",
    "$\\int r e^{r^2}{\\rm erf}(a r)dr = \\tfrac{1}{2}e^{r^2}{\\rm erf}(a r)\n",
    "-\\tfrac{1}{2}\\frac{a}{\\sqrt{1-a^2}}{\\rm erfi}(\\sqrt{1-a^2}r)$"
   ]
  },
  {
   "cell_type": "markdown",
   "metadata": {},
   "source": [
    "We obtain  \n",
    "$J(x) = \\frac{\\pi}{2}\\int_0^{\\tfrac{\\pi}{4}} \\left[ \n",
    "e^{x^2\\sec^2\\theta}{\\rm erf}(x\\tan\\theta) - \\tan\\theta{\\rm erfi}(x)\n",
    "\\right]d\\theta$"
   ]
  },
  {
   "cell_type": "markdown",
   "metadata": {},
   "source": [
    "The second term is  \n",
    "$-\\tfrac{\\pi}{2}{\\rm erfi}(x)\\int_0^{\\tfrac{\\pi}{4}}\\tan\\theta d\\theta = -\\tfrac{\\pi}{4}{\\rm erfi}(x)\\log2$  \n",
    "\n",
    "For the last term that remains, let $t=\\tan\\theta$, thus $dt = \\sec^2\\theta d\\theta = (1+t^2)d\\theta$ and  \n",
    "$H(x)-H(-x)=\\tfrac{\\pi^2}{4}(1-\\log2){\\rm erfi}(x)+\\tfrac{\\pi^2}{2}e^{x^2}\\int_0^1e^{x^2t^2}{\\rm erf}(xt)\\frac{1}{1+t^2}dt$  \n",
    "The integration limit is mapped from $\\theta\\in[0,\\tfrac{\\pi}{4}]$ to $t\\in[0,1]$.  \n",
    "This integral cannot be further reduced and its usefulness is limited.  \n"
   ]
  },
  {
   "cell_type": "markdown",
   "metadata": {},
   "source": [
    "Need to check if this result is correct!  \n",
    "Evaluate with quadrature? Or not => as $x$ becomes large the integrand becomes extremely curved!"
   ]
  },
  {
   "cell_type": "markdown",
   "metadata": {},
   "source": [
    "Alternatively, use integration by parts we can get  \n",
    "$H(x)-H(-x) = \\tfrac{\\pi}{2}{\\rm erfi}(x)[\\tfrac{1}{2}\\log2+G(t)+G(-t)] - \\pi\\int_0^x {\\rm erfi}(t)e^{t^2}{\\rm erf}(t)dt$  \n",
    "Unfortunately, the second term is intractable."
   ]
  },
  {
   "cell_type": "markdown",
   "metadata": {},
   "source": [
    "This is hopeless. Proceed ahead don't waste more time.  \n",
    "Already done: g(x) is done. h(x) is done.  \n",
    "\n",
    "1. Implement H(x) for x < 0 [done!]\n",
    "2. No need to rebuild atm. Make it work first then improve speed with version 3.\n",
    "3. Improve G(x) for x < 0 (check how well it works now) and implement G(x) > 0\n",
    "4. Need to find new way to do H(x) for x > 0 [done! with basic method = subdivision + chebyshev; not ideal since the fit is steep but it works.]"
   ]
  },
  {
   "cell_type": "code",
   "execution_count": null,
   "metadata": {},
   "outputs": [],
   "source": []
  }
 ],
 "metadata": {
  "kernelspec": {
   "display_name": "Python 3",
   "language": "python",
   "name": "python3"
  },
  "language_info": {
   "codemirror_mode": {
    "name": "ipython",
    "version": 3
   },
   "file_extension": ".py",
   "mimetype": "text/x-python",
   "name": "python",
   "nbconvert_exporter": "python",
   "pygments_lexer": "ipython3",
   "version": "3.7.6"
  }
 },
 "nbformat": 4,
 "nbformat_minor": 4
}
