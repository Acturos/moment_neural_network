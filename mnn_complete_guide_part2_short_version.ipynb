{
 "cells": [
  {
   "cell_type": "markdown",
   "metadata": {},
   "source": [
    "## 5. Numeric considerations\n",
    "Numeric error may occur for a number of scenarios involving large positive integration bound $I^{\\rm ub}$ and $I^{\\rm lb}$ and special treatment is required.\n",
    "\n",
    "### Scenario 1. Mean activation  \n",
    "$\\mu = \\dfrac{1}{T_{\\rm ref}+ \\frac{2}{L}[G(I^{\\rm ub})- G(I^{\\rm lb})]}$.\n",
    "\n",
    "When $I^{\\rm ub} > c$ for some positive constant $c$, \"$\\infty-\\infty$\" type error may occur. In this case simply set $\\mu=0$. We find $c=10$ is a reasonable value."
   ]
  },
  {
   "cell_type": "markdown",
   "metadata": {},
   "source": [
    "Finally, we provide a solution for when $\\bar{\\sigma}=0$ by finding the limit of $\\mu$ as $\\sigma\\to 0_+$.\n",
    "$\\mu = \n",
    "\\begin{cases}\n",
    "0,& {\\rm for }~~\\bar{\\mu}\\leq V_{\\rm th}L\\\\\n",
    "\\dfrac{1}{T_{\\rm ref} -\\frac{1}{L}\\log\\left( 1-\\frac{V_{\\rm th}L}{\\bar{\\mu}} \\right)},& {\\rm for}~~\\bar{\\mu} > V_{\\rm th}L\n",
    "\\end{cases}$  "
   ]
  },
  {
   "cell_type": "markdown",
   "metadata": {},
   "source": [
    "### Scenario 2. Std activation  \n",
    "$\\sigma^2 = \\mu^3{\\rm Var}[T]$   \n",
    "\n",
    "For $I^{\\rm ub}>c=10$, set $\\sigma = 0$.\n",
    "\n",
    "For $\\bar{\\sigma}=0$, set $\\sigma = 0$."
   ]
  },
  {
   "cell_type": "markdown",
   "metadata": {},
   "source": [
    "## Scenario 3. Linear response  \n",
    "$\\chi(\\bar{\\mu},\\bar{\\sigma}) = \\dfrac{\\bar{\\sigma}}{\\sigma}\\dfrac{\\partial \\mu}{\\partial \\bar{\\mu}}\n",
    "=\\dfrac{\\bar{\\sigma}}{\\sigma}\\left(\\frac{2}{L\\sqrt{L}}\\frac{\\mu^2}{\\bar{\\sigma}}\\Delta g\\right)\n",
    "=\\frac{2}{L\\sqrt{L}}\\dfrac{\\mu^2}{\\sigma}\\Delta g\n",
    "$"
   ]
  },
  {
   "cell_type": "markdown",
   "metadata": {},
   "source": [
    "For $I^{\\rm ub}>c=10$, set $\\chi = 0$."
   ]
  },
  {
   "cell_type": "markdown",
   "metadata": {},
   "source": [
    "For $\\bar{\\sigma}=0$, set  \n",
    "$\\chi = \n",
    "\\begin{cases}\n",
    "0,& {\\rm for }~~\\bar{\\mu}\\leq V_{\\rm th}L\\\\\n",
    "\\sqrt{\\frac{2}{L}}\\dfrac{1}{\\sqrt{\n",
    "T_{\\rm ref} -\\frac{1}{L}\\log\\left( 1-\\frac{V_{\\rm th}L}{\\bar{\\mu}} \\right)}\n",
    "\\sqrt{2\\bar{\\mu}/(V_{\\rm th}L)-1}\n",
    "},& {\\rm for}~~\\bar{\\mu} > V_{\\rm th}L\n",
    "\\end{cases}$  \n",
    "Note that $\\chi$ is continuous and well bahaved everywhere."
   ]
  },
  {
   "cell_type": "markdown",
   "metadata": {},
   "source": [
    "## Scenario 4: Gradient of mean activation\n",
    "In this section we present numerically stable formula for the gradient of the mean activation.  \n",
    "First, the partial derivative with respect to $\\bar{\\mu}$ is  \n",
    "$\\dfrac{\\partial \\mu}{\\partial \\bar{\\mu}}\n",
    "=\\frac{2}{L\\sqrt{L}}\\frac{\\mu^2}{\\bar{\\sigma}}\\Delta g$."
   ]
  },
  {
   "cell_type": "markdown",
   "metadata": {},
   "source": [
    "For $I^{\\rm ub}>c=10$ set the result to $0$."
   ]
  },
  {
   "cell_type": "markdown",
   "metadata": {},
   "source": [
    "For $\\bar{\\sigma}= 0$, simply take the derivative directly of $\\mu(\\bar{\\mu},0)$ which is already known. We get  \n",
    "$\\dfrac{\\partial\\mu}{\\partial\\bar{\\mu}} = \n",
    "\\begin{cases}\n",
    "0,& {\\rm for }~~\\bar{\\mu}< V_{\\rm th}L\\\\\n",
    "\\dfrac{V\\mu^2}{\\bar{\\mu}(\\bar{\\mu}-VL)},& {\\rm for}~~\\bar{\\mu} > V_{\\rm th}L\n",
    "\\end{cases}$  \n",
    "The derivative has a non-removable singularity at $(\\bar{\\mu},\\bar{\\sigma})=(V_{\\rm th}L,0)$, which we set to zero for numeric purpose.\n",
    "\n",
    "For all other cases evaluate with the normal formula."
   ]
  },
  {
   "cell_type": "markdown",
   "metadata": {},
   "source": [
    "---\n",
    "Next, the partial derivative with respect to $\\bar{\\sigma}$ is  \n",
    "$\\dfrac{\\partial \\mu}{\\partial \\bar{\\sigma}}=\n",
    "\\frac{2}{L}\\mu^2\\frac{1}{\\bar{\\sigma}}[g(I^{\\rm ub})I^{\\rm ub} - g(I^{\\rm lb})I^{\\rm lb}]\n",
    "=\\frac{2}{L}\\frac{1}{\\bar{\\sigma}}\\dfrac{g(I^{\\rm ub})I^{\\rm ub}}{G(I^{\\rm ub})^2}\n",
    "\\dfrac{1-\\kappa}{[T_{\\rm ref}/G(I^{\\rm ub})+\\frac{2}{L}(1-\\eta)]^2}$,  \n",
    "where $\\kappa=\\frac{g(I^{\\rm lb})I^{\\rm lb}}{g(I^{\\rm ub})I^{\\rm ub}}$."
   ]
  },
  {
   "cell_type": "markdown",
   "metadata": {},
   "source": [
    "For $I^{\\rm ub}>c=10$, set $\\dfrac{\\partial\\mu}{\\partial\\bar{\\sigma}}=0$"
   ]
  },
  {
   "cell_type": "markdown",
   "metadata": {},
   "source": [
    "To find the derivative for $\\bar{\\sigma}=0$, we need to consider the limit.  \n",
    "For $\\bar{\\mu}<V_{\\rm th}L$ we simply have $\\frac{\\partial\\mu}{\\partial\\bar{\\mu}}=0$.  \n",
    "For $\\bar{\\mu}>V_{\\rm th}L$, $I^{\\rm lb}<I^{\\rm ub}\\to-\\infty$ and we have   \n",
    "$g(I^{\\rm ub})I^{\\rm ub}-g(I^{\\rm lb})I^{\\rm lb} = \\frac{1}{4}\\left(\\frac{1}{(I^{\\rm ub})^2}-\\frac{1}{(I^{\\rm lb})^2}\\right)$."
   ]
  },
  {
   "cell_type": "markdown",
   "metadata": {},
   "source": [
    "Therefore, the derivative becomes  \n",
    "$\\dfrac{\\partial\\mu}{\\partial\\bar{\\sigma}}=\\frac{1}{2}\\mu^2\\bar{\\sigma}\\left[\\frac{1}{(1-\\bar{\\mu})^2}-\\frac{1}{\\bar{\\mu}}\\right]=0$"
   ]
  },
  {
   "cell_type": "markdown",
   "metadata": {},
   "source": [
    "For $\\bar{\\mu}=V_{\\rm th}L$ the situation is tricky as the limit is not well defined: $\\partial_{\\bar{\\sigma}}\\mu\\to+\\infty$ as $\\bar{\\sigma}\\to 0$ along the $\\bar{\\mu}=0$ axis, whereas $\\partial_{\\bar{\\sigma}}\\mu\\to 0$ as $\\bar{\\mu}\\to V_{\\rm th}L$ along the $\\bar{\\sigma}=0$ axis. For numeric considerations we set it to be zero."
   ]
  },
  {
   "cell_type": "markdown",
   "metadata": {},
   "source": [
    "## Scenario 5: Gradient of std activation  \n",
    "The std activation is  \n",
    "$\\sigma^2= \\frac{8}{L^2}\\mu^3\\Delta H\\Rightarrow\\sigma = \\frac{2\\sqrt{2}}{L}\\mu^{3/2}\\sqrt{\\Delta H}$  \n",
    "First, the partial derivative with respect to $\\bar{\\mu}$ is"
   ]
  },
  {
   "cell_type": "markdown",
   "metadata": {},
   "source": [
    "$\\dfrac{\\partial\\sigma}{\\partial\\bar{\\mu}}=\\frac{3}{L\\sqrt{L}}\\dfrac{\\sigma}{\\bar{\\sigma}}\\dfrac{\\Delta g}{T_{\\rm ref}+\\frac{2}{L}\\Delta G}\n",
    "-\\frac{1}{2\\sqrt{L}}\\dfrac{\\sigma}{\\bar{\\sigma}}\\dfrac{\\Delta h}{\\Delta H}$.  \n",
    "Note how terms of the same order are grouped together.  "
   ]
  },
  {
   "cell_type": "markdown",
   "metadata": {},
   "source": [
    "For $I^{\\rm ub}>c=10$, set $\\dfrac{\\partial\\sigma}{\\partial\\bar{\\mu}}=0$."
   ]
  },
  {
   "cell_type": "markdown",
   "metadata": {},
   "source": [
    "At $\\bar{\\sigma}=0$ the gradient with respect to $\\bar{\\mu}$ is zero except that it is not well defined at $\\bar{\\mu}=V_{\\rm th}L$, since the derivative along the $\\bar{\\sigma}=0$ axis is zero but the limit as $\\bar{\\sigma}\\to 0$ is divergent. For numeric purposes we set it to be zero."
   ]
  },
  {
   "cell_type": "markdown",
   "metadata": {},
   "source": [
    "Next, the partial derivative with respect to $\\bar{\\sigma}$ is  \n",
    "$\\dfrac{\\partial\\sigma}{\\partial\\bar{\\sigma}}=\\frac{3}{L}\\dfrac{\\sigma}{\\bar{\\sigma}}\\dfrac{g^{\\rm ub}I^{\\rm ub}-g^{\\rm lb}I^{\\rm lb}}{T_{\\rm ref}+\\frac{2}{L}\\Delta G}\n",
    "-\\frac{1}{2}\\dfrac{\\sigma}{\\bar{\\sigma}}\\dfrac{h^{\\rm ub}I^{\\rm ub}-h^{\\rm lb}I^{\\rm lb}}{\\Delta H}$. "
   ]
  },
  {
   "cell_type": "markdown",
   "metadata": {},
   "source": [
    "For $I^{\\rm ub}>c=10$, set $\\dfrac{\\partial\\sigma}{\\partial\\bar{\\sigma}}=0$."
   ]
  },
  {
   "cell_type": "markdown",
   "metadata": {},
   "source": [
    "Next we find the case for $\\bar{\\sigma}= 0$  \n",
    "$\\left. \\dfrac{\\partial{\\sigma}}{\\partial\\bar{\\sigma}}\\displaystyle \\right|_{\\bar{\\sigma}=0}\n",
    "=\\displaystyle\\lim_{\\bar{\\sigma}\\to 0}\\dfrac{\\sigma}{\\bar{\\sigma}}\n",
    "= \\frac{1}{\\sqrt{2L}}\\mu^{\\frac{3}{2}}\\sqrt{\\frac{1}{(V_{\\rm th}L-\\bar{\\mu})^2}-\\frac{1}{\\bar{\\mu}^2}}$,  \n",
    "where we have used the asymptotic $H(x) \\sim \\frac{1}{16}\\frac{1}{x^2}$."
   ]
  }
 ],
 "metadata": {
  "kernelspec": {
   "display_name": "Python 3",
   "language": "python",
   "name": "python3"
  },
  "language_info": {
   "codemirror_mode": {
    "name": "ipython",
    "version": 3
   },
   "file_extension": ".py",
   "mimetype": "text/x-python",
   "name": "python",
   "nbconvert_exporter": "python",
   "pygments_lexer": "ipython3",
   "version": "3.8.5"
  }
 },
 "nbformat": 4,
 "nbformat_minor": 4
}
